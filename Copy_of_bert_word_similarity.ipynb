{
  "nbformat": 4,
  "nbformat_minor": 0,
  "metadata": {
    "colab": {
      "name": "Copy of bert_word_similarity.ipynb",
      "provenance": [],
      "collapsed_sections": []
    },
    "kernelspec": {
      "name": "python3",
      "display_name": "Python 3"
    },
    "language_info": {
      "name": "python"
    }
  },
  "cells": [
    {
      "cell_type": "code",
      "execution_count": null,
      "metadata": {
        "id": "7Fn9v9NYflHI"
      },
      "outputs": [],
      "source": [
        "!pip install spacy"
      ]
    },
    {
      "cell_type": "code",
      "source": [
        "import spacy\n",
        "import pandas as pd\n",
        "import numpy as np\n",
        "nlp = spacy.load('en_core_web_sm')\n",
        "\n",
        "df = pd.read_csv('sample.csv')"
      ],
      "metadata": {
        "id": "jQHwULgef1gL"
      },
      "execution_count": null,
      "outputs": []
    },
    {
      "cell_type": "code",
      "source": [
        "clean_df = df.dropna()"
      ],
      "metadata": {
        "id": "cwqe6UYYgYJu"
      },
      "execution_count": null,
      "outputs": []
    },
    {
      "cell_type": "code",
      "source": [
        "text= ''\n",
        "for i in clean_df['title_keyword']:\n",
        "     text+=i+\" \"\n",
        "text"
      ],
      "metadata": {
        "id": "38mSXK45gZTU"
      },
      "execution_count": null,
      "outputs": []
    },
    {
      "cell_type": "code",
      "source": [
        "doc =nlp(text)\n",
        "print(doc[25].is_stop,doc[25])"
      ],
      "metadata": {
        "colab": {
          "base_uri": "https://localhost:8080/"
        },
        "id": "M16BujMmg1VC",
        "outputId": "52bfca5d-d183-46dd-9d3c-3c0aad4b3942"
      },
      "execution_count": null,
      "outputs": [
        {
          "output_type": "stream",
          "name": "stdout",
          "text": [
            "True For\n"
          ]
        }
      ]
    },
    {
      "cell_type": "code",
      "source": [
        "datas = []\n",
        "for i in doc:\n",
        "    if not i.is_space and i.is_alpha and not i.is_stop and i.text not in datas:\n",
        "        datas.append(i.text)"
      ],
      "metadata": {
        "id": "dDlXg9BRg8Qq"
      },
      "execution_count": null,
      "outputs": []
    },
    {
      "cell_type": "code",
      "source": [
        "len(datas)"
      ],
      "metadata": {
        "colab": {
          "base_uri": "https://localhost:8080/"
        },
        "id": "DgQkAXu9g-W7",
        "outputId": "c57502b8-7a46-4113-fd1b-e405c97e48a9"
      },
      "execution_count": null,
      "outputs": [
        {
          "output_type": "execute_result",
          "data": {
            "text/plain": [
              "8217"
            ]
          },
          "metadata": {},
          "execution_count": 67
        }
      ]
    },
    {
      "cell_type": "code",
      "source": [
        "model_name = \"sentence-transformers/bert-base-nli-mean-tokens\""
      ],
      "metadata": {
        "id": "H2Cp0oH2g_ai"
      },
      "execution_count": null,
      "outputs": []
    },
    {
      "cell_type": "code",
      "source": [
        "!pip install -U scikit-learn sentence-transformers"
      ],
      "metadata": {
        "id": "H7JhuIyujH0P"
      },
      "execution_count": null,
      "outputs": []
    },
    {
      "cell_type": "code",
      "source": [
        "from sentence_transformers import SentenceTransformer\n",
        "from sklearn.metrics.pairwise import cosine_similarity\n",
        "import json"
      ],
      "metadata": {
        "id": "gG69CsxHjAar"
      },
      "execution_count": null,
      "outputs": []
    },
    {
      "cell_type": "code",
      "source": [
        "model = SentenceTransformer(model_name)"
      ],
      "metadata": {
        "id": "NTRUDigCjFQx"
      },
      "execution_count": null,
      "outputs": []
    },
    {
      "cell_type": "code",
      "source": [
        "sentence_vecs = model.encode(datas) #model train"
      ],
      "metadata": {
        "id": "hHf12gSvjhmS"
      },
      "execution_count": null,
      "outputs": []
    },
    {
      "cell_type": "code",
      "source": [
        "unsort_out = []\n",
        "\n",
        "def process(text_vecs):\n",
        "    sim =cosine_similarity(\n",
        "    [text_vecs],sentence_vecs[:]\n",
        "    )\n",
        "    return sim"
      ],
      "metadata": {
        "id": "r72cFOcCkJ5S"
      },
      "execution_count": null,
      "outputs": []
    },
    {
      "cell_type": "code",
      "source": [
        "def sort_collect():\n",
        "    collect.sort(key=lambda x:x[-1],reverse=True)"
      ],
      "metadata": {
        "id": "BKLqoejJcJEK"
      },
      "execution_count": null,
      "outputs": []
    },
    {
      "cell_type": "code",
      "source": [
        "\"\"\"\n",
        "Text input from user and process similarity check\n",
        "\"\"\"\n",
        "\n",
        "collect=[]\n",
        "text = str(input(\"Keyword: \"))\n",
        "text_vecs = model.encode(text)\n",
        "sim_pc =  process(text_vecs) \n",
        "print(len(sim_pc[0]))\n",
        "for i,j in enumerate(sim_pc[0]):\n",
        "  collect.append((datas[i],j))\n",
        "sort_collect()"
      ],
      "metadata": {
        "colab": {
          "base_uri": "https://localhost:8080/"
        },
        "id": "m_j1a5xFkRSi",
        "outputId": "61dfb34c-7a39-43b7-9ccf-cb552bd2d8bb"
      },
      "execution_count": null,
      "outputs": [
        {
          "output_type": "stream",
          "name": "stdout",
          "text": [
            "Keyword: truck\n",
            "8217\n"
          ]
        }
      ]
    },
    {
      "cell_type": "code",
      "source": [
        "len(collect[:100])"
      ],
      "metadata": {
        "id": "ixbvBNJYk2pN",
        "colab": {
          "base_uri": "https://localhost:8080/"
        },
        "outputId": "85afcb0b-efea-4134-944c-c7c8db0def73"
      },
      "execution_count": null,
      "outputs": [
        {
          "output_type": "execute_result",
          "data": {
            "text/plain": [
              "100"
            ]
          },
          "metadata": {},
          "execution_count": 73
        }
      ]
    },
    {
      "cell_type": "code",
      "source": [
        "def create_json():\n",
        "  try:\n",
        "    dic_data={}\n",
        "    dic_data[text]=[item for item,pc in collect[:100]]\n",
        "    print(dic_data)\n",
        "    with open(str(text)+\".json\",\"w\",encoding=\"utf-8\") as file:\n",
        "      json.dump(dic_data,file,indent=0)\n",
        "      print(\"Json file generated!\")\n",
        "  except Exceptional as e:\n",
        "    print(\"error on create json-> \"+str(e))"
      ],
      "metadata": {
        "id": "aSLbpJjOba8Q"
      },
      "execution_count": null,
      "outputs": []
    },
    {
      "cell_type": "code",
      "source": [
        "create_json()"
      ],
      "metadata": {
        "colab": {
          "base_uri": "https://localhost:8080/"
        },
        "id": "hVNAUckgcYpQ",
        "outputId": "8e2f4375-686c-4cfc-e549-6821208ed227"
      },
      "execution_count": null,
      "outputs": [
        {
          "output_type": "stream",
          "name": "stdout",
          "text": [
            "{'truck': ['Truck', 'Trucks', 'Trucking', 'Pickup', 'Chassis', 'Wagons', 'Sacks', 'Loader', 'Axles', 'Wagon', 'Vehicle', 'Tractor', 'Wheelers', 'Trailer', 'Trailers', 'Vehicles', 'Cart', 'Load', 'Driver', 'Tow', 'Carts', 'Containers', 'Loading', 'Workshoes', 'Drivers', 'Rv', 'Rvs', 'Tank', 'Rigs', 'Tractors', 'Casings', 'Atv', 'Suv', 'Chute', 'Container', 'Afterloaders', 'Tanks', 'Forklift', 'Wheels', 'Shed', 'Cartons', 'Hump', 'Subwoofer', 'Charger', 'Cargo', 'Barrel', 'Conveyor', 'Cans', 'Carb', 'Transport', 'Oximeters', 'Rammers', 'Bucket', 'Lug', 'Freight', 'Subwoofers', 'Plow', 'Humic', 'Gearbox', 'Ordnance', 'Bins', 'Carbs', 'Siding', 'Implements', 'Engine', 'Puller', 'Bumper', 'Tires', 'Girder', 'Barrels', 'Modules', 'Radomes', 'Crates', 'Manufacturing', 'Wheeler', 'Auto', 'Wheel', 'Shovel', 'Fowl', 'Machinery', 'Shears', 'Carton', 'Bags', 'Cabg', 'Crankset', 'Lcps', 'Darlington', 'Vessels', 'Pit', 'Craft', 'Trimmer', 'Radome', 'Handles', 'Boxes', 'Skim', 'Pails', 'Automobile', 'Sculling', 'Cruiser', 'Module']}\n",
            "Json file generated!\n"
          ]
        }
      ]
    },
    {
      "cell_type": "code",
      "source": [
        ""
      ],
      "metadata": {
        "id": "MPJcXpgLeFZw"
      },
      "execution_count": null,
      "outputs": []
    }
  ]
}